{
 "cells": [
  {
   "cell_type": "code",
   "execution_count": 3,
   "metadata": {},
   "outputs": [
    {
     "name": "stdout",
     "output_type": "stream",
     "text": [
      "The autoreload extension is already loaded. To reload it, use:\n",
      "  %reload_ext autoreload\n"
     ]
    }
   ],
   "source": [
    "%load_ext autoreload\n",
    "%autoreload 2"
   ]
  },
  {
   "cell_type": "code",
   "execution_count": 4,
   "metadata": {},
   "outputs": [],
   "source": [
    "import yaml\n",
    "import pandas as pd\n",
    "\n",
    "from utils.data import *\n",
    "from algorithms import load_model"
   ]
  },
  {
   "cell_type": "code",
   "execution_count": 5,
   "metadata": {},
   "outputs": [],
   "source": [
    "fore_date = pd.to_datetime('2020-11-02')\n",
    "n_fore = 14\n",
    "start_date = fore_date + pd.Timedelta(days=1)\n",
    "end_date = fore_date + pd.Timedelta(days=n_fore)"
   ]
  },
  {
   "cell_type": "code",
   "execution_count": 6,
   "metadata": {},
   "outputs": [
    {
     "data": {
      "text/plain": [
       "{'ips_file': './data/OxCGRT_latest.csv',\n",
       " 'nb_lookback_days': 1,\n",
       " 'y': 'NewCasesRM'}"
      ]
     },
     "execution_count": 6,
     "metadata": {},
     "output_type": "execute_result"
    }
   ],
   "source": [
    "with open('./experiments/lightgbm0.yaml', 'r') as f:\n",
    "    config = yaml.load(f, Loader=yaml.Loader)\n",
    "config[\"data\"]"
   ]
  },
  {
   "cell_type": "code",
   "execution_count": 7,
   "metadata": {},
   "outputs": [],
   "source": [
    "model = load_model(config)"
   ]
  },
  {
   "cell_type": "code",
   "execution_count": 8,
   "metadata": {},
   "outputs": [
    {
     "name": "stderr",
     "output_type": "stream",
     "text": [
      "/home/schapke/miniconda2/envs/xprize/lib/python3.7/site-packages/IPython/core/magic.py:188: DtypeWarning: Columns (3) have mixed types.Specify dtype option on import or set low_memory=False.\n",
      "  call = lambda f, *a, **k: f(*a, **k)\n"
     ]
    },
    {
     "name": "stdout",
     "output_type": "stream",
     "text": [
      "Warning! Interpolating missing ConfirmedCases statistics. (This will affect the ground truth labels NewCases).\n",
      "CPU times: user 5.59 s, sys: 194 ms, total: 5.78 s\n",
      "Wall time: 5.8 s\n"
     ]
    }
   ],
   "source": [
    "%%time \n",
    "data = Data(config)"
   ]
  },
  {
   "cell_type": "code",
   "execution_count": 12,
   "metadata": {},
   "outputs": [
    {
     "name": "stdout",
     "output_type": "stream",
     "text": [
      "(236,)\n",
      "(236,)\n",
      "(236,)\n",
      "(236,)\n",
      "(236,)\n",
      "(236,)\n",
      "(236,)\n",
      "(236,)\n"
     ]
    },
    {
     "name": "stderr",
     "output_type": "stream",
     "text": [
      "/home/schapke/projects/xprize/pandemic_response/work/utils/data.py:180: RuntimeWarning: divide by zero encountered in true_divide\n",
      "  df.loc[date, \"NewCasesRMGrowth\"] = forecast / prev_new_cases\n"
     ]
    },
    {
     "name": "stdout",
     "output_type": "stream",
     "text": [
      "(236,)\n",
      "(236,)\n",
      "(236,)\n",
      "(236,)\n",
      "(236,)\n",
      "(236,)\n",
      "(236,)\n",
      "(236,)\n",
      "(236,)\n",
      "(236,)\n",
      "(236,)\n",
      "(236,)\n",
      "(236,)\n",
      "(236,)\n",
      "(236,)\n",
      "(236,)\n",
      "(236,)\n",
      "(236,)\n",
      "(236,)\n",
      "(236,)\n",
      "(236,)\n",
      "(236,)\n",
      "done!\n",
      "CPU times: user 1.62 s, sys: 128 ms, total: 1.75 s\n",
      "Wall time: 933 ms\n"
     ]
    }
   ],
   "source": [
    "%%time\n",
    "n_fore = 15\n",
    "fore_date = pd.to_datetime(\"2020-10-01\")\n",
    "iterable = data.build_test_iter(fore_date, n_fore)\n",
    "\n",
    "sample = iterable()\n",
    "for i in range(n_fore): \n",
    "    sample = iterable(model.predict(sample))\n",
    "print(\"done!\")"
   ]
  },
  {
   "cell_type": "code",
   "execution_count": 13,
   "metadata": {},
   "outputs": [
    {
     "data": {
      "text/html": [
       "<div>\n",
       "<style scoped>\n",
       "    .dataframe tbody tr th:only-of-type {\n",
       "        vertical-align: middle;\n",
       "    }\n",
       "\n",
       "    .dataframe tbody tr th {\n",
       "        vertical-align: top;\n",
       "    }\n",
       "\n",
       "    .dataframe thead th {\n",
       "        text-align: right;\n",
       "    }\n",
       "</style>\n",
       "<table border=\"1\" class=\"dataframe\">\n",
       "  <thead>\n",
       "    <tr style=\"text-align: right;\">\n",
       "      <th>Date</th>\n",
       "      <th>2020-10-01</th>\n",
       "      <th>2020-10-02</th>\n",
       "      <th>2020-10-03</th>\n",
       "      <th>2020-10-04</th>\n",
       "      <th>2020-10-05</th>\n",
       "      <th>2020-10-06</th>\n",
       "      <th>2020-10-07</th>\n",
       "      <th>2020-10-08</th>\n",
       "      <th>2020-10-09</th>\n",
       "      <th>2020-10-10</th>\n",
       "      <th>2020-10-11</th>\n",
       "      <th>2020-10-12</th>\n",
       "      <th>2020-10-13</th>\n",
       "      <th>2020-10-14</th>\n",
       "      <th>2020-10-15</th>\n",
       "    </tr>\n",
       "    <tr>\n",
       "      <th>GeoID</th>\n",
       "      <th></th>\n",
       "      <th></th>\n",
       "      <th></th>\n",
       "      <th></th>\n",
       "      <th></th>\n",
       "      <th></th>\n",
       "      <th></th>\n",
       "      <th></th>\n",
       "      <th></th>\n",
       "      <th></th>\n",
       "      <th></th>\n",
       "      <th></th>\n",
       "      <th></th>\n",
       "      <th></th>\n",
       "      <th></th>\n",
       "    </tr>\n",
       "  </thead>\n",
       "  <tbody>\n",
       "    <tr>\n",
       "      <th>Afghanistan__nan</th>\n",
       "      <td>28.285714</td>\n",
       "      <td>27.503005</td>\n",
       "      <td>27.789793</td>\n",
       "      <td>31.595535</td>\n",
       "      <td>29.424631</td>\n",
       "      <td>34.359732</td>\n",
       "      <td>31.478214</td>\n",
       "      <td>36.694974</td>\n",
       "      <td>32.962876</td>\n",
       "      <td>40.580510</td>\n",
       "      <td>32.176433</td>\n",
       "      <td>43.870240</td>\n",
       "      <td>32.409902</td>\n",
       "      <td>47.658796</td>\n",
       "      <td>32.155080</td>\n",
       "    </tr>\n",
       "    <tr>\n",
       "      <th>Albania__nan</th>\n",
       "      <td>130.928571</td>\n",
       "      <td>127.492192</td>\n",
       "      <td>128.084296</td>\n",
       "      <td>141.254505</td>\n",
       "      <td>138.921190</td>\n",
       "      <td>145.407312</td>\n",
       "      <td>145.664782</td>\n",
       "      <td>191.246056</td>\n",
       "      <td>191.017986</td>\n",
       "      <td>208.942914</td>\n",
       "      <td>206.491784</td>\n",
       "      <td>214.947214</td>\n",
       "      <td>212.170704</td>\n",
       "      <td>222.630872</td>\n",
       "      <td>220.528693</td>\n",
       "    </tr>\n",
       "    <tr>\n",
       "      <th>Algeria__nan</th>\n",
       "      <td>183.142857</td>\n",
       "      <td>187.208031</td>\n",
       "      <td>180.900396</td>\n",
       "      <td>213.761702</td>\n",
       "      <td>205.585618</td>\n",
       "      <td>222.389053</td>\n",
       "      <td>213.382289</td>\n",
       "      <td>229.861204</td>\n",
       "      <td>219.213802</td>\n",
       "      <td>237.523544</td>\n",
       "      <td>228.785524</td>\n",
       "      <td>245.356709</td>\n",
       "      <td>233.981533</td>\n",
       "      <td>246.173166</td>\n",
       "      <td>242.313717</td>\n",
       "    </tr>\n",
       "    <tr>\n",
       "      <th>Andorra__nan</th>\n",
       "      <td>43.714286</td>\n",
       "      <td>37.774689</td>\n",
       "      <td>44.384617</td>\n",
       "      <td>43.039252</td>\n",
       "      <td>46.950227</td>\n",
       "      <td>47.047873</td>\n",
       "      <td>51.625684</td>\n",
       "      <td>51.610237</td>\n",
       "      <td>57.738736</td>\n",
       "      <td>57.616154</td>\n",
       "      <td>60.842396</td>\n",
       "      <td>61.307235</td>\n",
       "      <td>63.186008</td>\n",
       "      <td>64.076394</td>\n",
       "      <td>66.262502</td>\n",
       "    </tr>\n",
       "    <tr>\n",
       "      <th>Angola__nan</th>\n",
       "      <td>100.214286</td>\n",
       "      <td>109.919461</td>\n",
       "      <td>98.800552</td>\n",
       "      <td>123.108038</td>\n",
       "      <td>108.580685</td>\n",
       "      <td>129.764543</td>\n",
       "      <td>113.144823</td>\n",
       "      <td>138.810908</td>\n",
       "      <td>119.513016</td>\n",
       "      <td>145.755485</td>\n",
       "      <td>129.647836</td>\n",
       "      <td>190.922948</td>\n",
       "      <td>139.090132</td>\n",
       "      <td>211.703581</td>\n",
       "      <td>145.583686</td>\n",
       "    </tr>\n",
       "  </tbody>\n",
       "</table>\n",
       "</div>"
      ],
      "text/plain": [
       "Date              2020-10-01  2020-10-02  2020-10-03  2020-10-04  2020-10-05  \\\n",
       "GeoID                                                                          \n",
       "Afghanistan__nan   28.285714   27.503005   27.789793   31.595535   29.424631   \n",
       "Albania__nan      130.928571  127.492192  128.084296  141.254505  138.921190   \n",
       "Algeria__nan      183.142857  187.208031  180.900396  213.761702  205.585618   \n",
       "Andorra__nan       43.714286   37.774689   44.384617   43.039252   46.950227   \n",
       "Angola__nan       100.214286  109.919461   98.800552  123.108038  108.580685   \n",
       "\n",
       "Date              2020-10-06  2020-10-07  2020-10-08  2020-10-09  2020-10-10  \\\n",
       "GeoID                                                                          \n",
       "Afghanistan__nan   34.359732   31.478214   36.694974   32.962876   40.580510   \n",
       "Albania__nan      145.407312  145.664782  191.246056  191.017986  208.942914   \n",
       "Algeria__nan      222.389053  213.382289  229.861204  219.213802  237.523544   \n",
       "Andorra__nan       47.047873   51.625684   51.610237   57.738736   57.616154   \n",
       "Angola__nan       129.764543  113.144823  138.810908  119.513016  145.755485   \n",
       "\n",
       "Date              2020-10-11  2020-10-12  2020-10-13  2020-10-14  2020-10-15  \n",
       "GeoID                                                                         \n",
       "Afghanistan__nan   32.176433   43.870240   32.409902   47.658796   32.155080  \n",
       "Albania__nan      206.491784  214.947214  212.170704  222.630872  220.528693  \n",
       "Algeria__nan      228.785524  245.356709  233.981533  246.173166  242.313717  \n",
       "Andorra__nan       60.842396   61.307235   63.186008   64.076394   66.262502  \n",
       "Angola__nan       129.647836  190.922948  139.090132  211.703581  145.583686  "
      ]
     },
     "execution_count": 13,
     "metadata": {},
     "output_type": "execute_result"
    }
   ],
   "source": [
    "regions = sample.index\n",
    "fore_dates = pd.date_range(fore_date, periods=n_fore, freq='1d')\n",
    "forecast0 = iterable(test=False)\n",
    "labels0 = data.df.loc[fore_dates].NewCasesRM\n",
    "\n",
    "labels = labels0.unstack(0)\n",
    "forecast = forecast0.unstack(0)\n",
    "\n",
    "forecast.head()"
   ]
  },
  {
   "cell_type": "code",
   "execution_count": 14,
   "metadata": {},
   "outputs": [
    {
     "data": {
      "text/html": [
       "<div>\n",
       "<style scoped>\n",
       "    .dataframe tbody tr th:only-of-type {\n",
       "        vertical-align: middle;\n",
       "    }\n",
       "\n",
       "    .dataframe tbody tr th {\n",
       "        vertical-align: top;\n",
       "    }\n",
       "\n",
       "    .dataframe thead th {\n",
       "        text-align: right;\n",
       "    }\n",
       "</style>\n",
       "<table border=\"1\" class=\"dataframe\">\n",
       "  <thead>\n",
       "    <tr style=\"text-align: right;\">\n",
       "      <th>Date</th>\n",
       "      <th>2020-10-01</th>\n",
       "      <th>2020-10-02</th>\n",
       "      <th>2020-10-03</th>\n",
       "      <th>2020-10-04</th>\n",
       "      <th>2020-10-05</th>\n",
       "      <th>2020-10-06</th>\n",
       "      <th>2020-10-07</th>\n",
       "      <th>2020-10-08</th>\n",
       "      <th>2020-10-09</th>\n",
       "      <th>2020-10-10</th>\n",
       "      <th>2020-10-11</th>\n",
       "      <th>2020-10-12</th>\n",
       "      <th>2020-10-13</th>\n",
       "      <th>2020-10-14</th>\n",
       "      <th>2020-10-15</th>\n",
       "    </tr>\n",
       "    <tr>\n",
       "      <th>GeoID</th>\n",
       "      <th></th>\n",
       "      <th></th>\n",
       "      <th></th>\n",
       "      <th></th>\n",
       "      <th></th>\n",
       "      <th></th>\n",
       "      <th></th>\n",
       "      <th></th>\n",
       "      <th></th>\n",
       "      <th></th>\n",
       "      <th></th>\n",
       "      <th></th>\n",
       "      <th></th>\n",
       "      <th></th>\n",
       "      <th></th>\n",
       "    </tr>\n",
       "  </thead>\n",
       "  <tbody>\n",
       "    <tr>\n",
       "      <th>Afghanistan__nan</th>\n",
       "      <td>28.285714</td>\n",
       "      <td>29.500000</td>\n",
       "      <td>26.500000</td>\n",
       "      <td>18.071429</td>\n",
       "      <td>21.214286</td>\n",
       "      <td>29.428571</td>\n",
       "      <td>28.785714</td>\n",
       "      <td>31.857143</td>\n",
       "      <td>36.214286</td>\n",
       "      <td>36.500000</td>\n",
       "      <td>34.000000</td>\n",
       "      <td>40.857143</td>\n",
       "      <td>49.214286</td>\n",
       "      <td>52.857143</td>\n",
       "      <td>54.142857</td>\n",
       "    </tr>\n",
       "    <tr>\n",
       "      <th>Albania__nan</th>\n",
       "      <td>130.928571</td>\n",
       "      <td>132.714286</td>\n",
       "      <td>135.142857</td>\n",
       "      <td>135.071429</td>\n",
       "      <td>134.357143</td>\n",
       "      <td>133.928571</td>\n",
       "      <td>135.857143</td>\n",
       "      <td>138.785714</td>\n",
       "      <td>141.285714</td>\n",
       "      <td>144.357143</td>\n",
       "      <td>148.428571</td>\n",
       "      <td>152.857143</td>\n",
       "      <td>155.642857</td>\n",
       "      <td>159.571429</td>\n",
       "      <td>164.714286</td>\n",
       "    </tr>\n",
       "    <tr>\n",
       "      <th>Algeria__nan</th>\n",
       "      <td>183.142857</td>\n",
       "      <td>178.285714</td>\n",
       "      <td>173.857143</td>\n",
       "      <td>169.428571</td>\n",
       "      <td>165.000000</td>\n",
       "      <td>160.500000</td>\n",
       "      <td>156.071429</td>\n",
       "      <td>151.428571</td>\n",
       "      <td>148.500000</td>\n",
       "      <td>146.428571</td>\n",
       "      <td>144.714286</td>\n",
       "      <td>143.214286</td>\n",
       "      <td>143.714286</td>\n",
       "      <td>145.071429</td>\n",
       "      <td>146.714286</td>\n",
       "    </tr>\n",
       "    <tr>\n",
       "      <th>Andorra__nan</th>\n",
       "      <td>43.714286</td>\n",
       "      <td>40.500000</td>\n",
       "      <td>39.000000</td>\n",
       "      <td>39.000000</td>\n",
       "      <td>39.000000</td>\n",
       "      <td>49.214286</td>\n",
       "      <td>49.214286</td>\n",
       "      <td>58.214286</td>\n",
       "      <td>58.214286</td>\n",
       "      <td>61.428571</td>\n",
       "      <td>61.428571</td>\n",
       "      <td>61.428571</td>\n",
       "      <td>73.500000</td>\n",
       "      <td>73.500000</td>\n",
       "      <td>81.428571</td>\n",
       "    </tr>\n",
       "    <tr>\n",
       "      <th>Angola__nan</th>\n",
       "      <td>100.214286</td>\n",
       "      <td>87.357143</td>\n",
       "      <td>94.642857</td>\n",
       "      <td>93.571429</td>\n",
       "      <td>98.500000</td>\n",
       "      <td>89.500000</td>\n",
       "      <td>106.357143</td>\n",
       "      <td>106.357143</td>\n",
       "      <td>107.142857</td>\n",
       "      <td>105.928571</td>\n",
       "      <td>102.928571</td>\n",
       "      <td>112.428571</td>\n",
       "      <td>112.071429</td>\n",
       "      <td>113.071429</td>\n",
       "      <td>122.000000</td>\n",
       "    </tr>\n",
       "  </tbody>\n",
       "</table>\n",
       "</div>"
      ],
      "text/plain": [
       "Date              2020-10-01  2020-10-02  2020-10-03  2020-10-04  2020-10-05  \\\n",
       "GeoID                                                                          \n",
       "Afghanistan__nan   28.285714   29.500000   26.500000   18.071429   21.214286   \n",
       "Albania__nan      130.928571  132.714286  135.142857  135.071429  134.357143   \n",
       "Algeria__nan      183.142857  178.285714  173.857143  169.428571  165.000000   \n",
       "Andorra__nan       43.714286   40.500000   39.000000   39.000000   39.000000   \n",
       "Angola__nan       100.214286   87.357143   94.642857   93.571429   98.500000   \n",
       "\n",
       "Date              2020-10-06  2020-10-07  2020-10-08  2020-10-09  2020-10-10  \\\n",
       "GeoID                                                                          \n",
       "Afghanistan__nan   29.428571   28.785714   31.857143   36.214286   36.500000   \n",
       "Albania__nan      133.928571  135.857143  138.785714  141.285714  144.357143   \n",
       "Algeria__nan      160.500000  156.071429  151.428571  148.500000  146.428571   \n",
       "Andorra__nan       49.214286   49.214286   58.214286   58.214286   61.428571   \n",
       "Angola__nan        89.500000  106.357143  106.357143  107.142857  105.928571   \n",
       "\n",
       "Date              2020-10-11  2020-10-12  2020-10-13  2020-10-14  2020-10-15  \n",
       "GeoID                                                                         \n",
       "Afghanistan__nan   34.000000   40.857143   49.214286   52.857143   54.142857  \n",
       "Albania__nan      148.428571  152.857143  155.642857  159.571429  164.714286  \n",
       "Algeria__nan      144.714286  143.214286  143.714286  145.071429  146.714286  \n",
       "Andorra__nan       61.428571   61.428571   73.500000   73.500000   81.428571  \n",
       "Angola__nan       102.928571  112.428571  112.071429  113.071429  122.000000  "
      ]
     },
     "execution_count": 14,
     "metadata": {},
     "output_type": "execute_result"
    }
   ],
   "source": [
    "labels.head()"
   ]
  },
  {
   "cell_type": "code",
   "execution_count": 15,
   "metadata": {},
   "outputs": [
    {
     "data": {
      "text/plain": [
       "133.47527797824077"
      ]
     },
     "execution_count": 15,
     "metadata": {},
     "output_type": "execute_result"
    }
   ],
   "source": [
    "mae = (labels - forecast).values.mean()\n",
    "maes = (labels - forecast).values.mean(1)\n",
    "mae"
   ]
  },
  {
   "cell_type": "code",
   "execution_count": 23,
   "metadata": {},
   "outputs": [],
   "source": [
    "#i = 218\n",
    "#i = maes.argmax()\n",
    "i = maes.argsort()[-1]\n",
    "region = regions[i]\n",
    "series = data.df.reorder_levels([1,0]).loc[region] "
   ]
  },
  {
   "cell_type": "code",
   "execution_count": 24,
   "metadata": {},
   "outputs": [
    {
     "data": {
      "image/png": "[encoded data removed]",
      "text/plain": [
       "<Figure size 1152x432 with 1 Axes>"
      ]
     },
     "metadata": {
      "needs_background": "light"
     },
     "output_type": "display_data"
    }
   ],
   "source": [
    "ax = series.NewCasesRM.plot(figsize=(16, 6), title=region)\n",
    "ax = forecast.loc[region].plot(ax=ax, linewidth=3)\n",
    "ax = series.loc[fore_dates].NewCasesRM.plot(ax=ax, linewidth=3)"
   ]
  },
  {
   "cell_type": "markdown",
   "metadata": {},
   "source": [
    "# ######################################\n",
    "# Global Average"
   ]
  },
  {
   "cell_type": "code",
   "execution_count": 319,
   "metadata": {},
   "outputs": [
    {
     "data": {
      "image/png": "[encoded data removed]",
      "text/plain": [
       "<Figure size 1152x432 with 1 Axes>"
      ]
     },
     "metadata": {
      "needs_background": "light"
     },
     "output_type": "display_data"
    }
   ],
   "source": [
    "ax = data.df.reset_index().groupby(\"Date\").mean().NewCasesRM.plot(figsize=(16, 6), title=\"Global Average\")\n",
    "ax = forecasts.mean(0).plot(ax=ax, linewidth=3)"
   ]
  },
  {
   "cell_type": "code",
   "execution_count": null,
   "metadata": {},
   "outputs": [],
   "source": []
  },
  {
   "cell_type": "code",
   "execution_count": null,
   "metadata": {},
   "outputs": [],
   "source": []
  }
 ],
 "metadata": {
  "kernelspec": {
   "display_name": "Python 3",
   "language": "python",
   "name": "python3"
  },
  "language_info": {
   "codemirror_mode": {
    "name": "ipython",
    "version": 3
   },
   "file_extension": ".py",
   "mimetype": "text/x-python",
   "name": "python",
   "nbconvert_exporter": "python",
   "pygments_lexer": "ipython3",
   "version": "3.7.8"
  }
 },
 "nbformat": 4,
 "nbformat_minor": 4
}
